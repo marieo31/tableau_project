{
 "cells": [
  {
   "cell_type": "code",
   "execution_count": 21,
   "metadata": {},
   "outputs": [],
   "source": [
    "import pandas as pd\n",
    "import os\n"
   ]
  },
  {
   "cell_type": "code",
   "execution_count": 22,
   "metadata": {},
   "outputs": [],
   "source": [
    "year = \"2018_2017\"\n",
    "path = os.path.join(\"raw_data\",str(year))\n",
    "\n",
    "# Look for all the csv files in the data folder\n",
    "filenames = os.listdir(path)\n",
    "csv_files = [ filename for filename in filenames if filename.endswith( \".csv\" ) and filename.startswith(\"JC\")]"
   ]
  },
  {
   "cell_type": "code",
   "execution_count": 36,
   "metadata": {},
   "outputs": [
    {
     "name": "stdout",
     "output_type": "stream",
     "text": [
      "JC-201701-citibike-tripdata.csv\n",
      "(12926, 15)\n",
      "JC-201702-citibike-tripdata.csv\n",
      "(14026, 15)\n",
      "JC-201703-citibike-tripdata.csv\n",
      "(12201, 15)\n",
      "JC-201704-citibike-tripdata.csv\n",
      "(21186, 15)\n",
      "JC-201705-citibike-tripdata.csv\n",
      "(25966, 15)\n",
      "JC-201706-citibike-tripdata.csv\n",
      "(32060, 15)\n",
      "JC-201707-citibike-tripdata.csv\n",
      "(33573, 15)\n",
      "JC-201709-citibike-tripdata.csv\n",
      "(33119, 15)\n",
      "JC-201710-citibike-tripdata.csv\n",
      "(34919, 15)\n",
      "JC-201711-citibike-tripdata.csv\n",
      "(23582, 15)\n",
      "JC-201712-citibike-tripdata.csv\n",
      "(15898, 15)\n",
      "JC-201801-citibike-tripdata.csv\n",
      "(12677, 15)\n",
      "JC-201802-citibike-tripdata.csv\n",
      "(15104, 15)\n",
      "JC-201803-citibike-tripdata.csv\n",
      "(17109, 15)\n",
      "JC-201804-citibike-tripdata.csv\n",
      "(23634, 15)\n",
      "JC-201805-citibike-tripdata.csv\n",
      "(34456, 15)\n",
      "JC-201806-citibike-tripdata.csv\n",
      "(40937, 15)\n",
      "JC-201807-citibike-tripdata.csv\n",
      "(42268, 15)\n",
      "JC-201808-citibike-tripdata.csv\n",
      "(44432, 15)\n",
      "JC-201809-citibike-tripdata.csv\n",
      "(39022, 15)\n",
      "JC-201810-citibike-tripdata.csv\n",
      "(39138, 15)\n",
      "JC-201811-citibike-tripdata.csv\n",
      "(24910, 15)\n",
      "JC-201812-citibike-tripdata.csv\n",
      "(20205, 15)\n"
     ]
    }
   ],
   "source": [
    "# Load with pandas and extract nb of rows, nb of columns ad column names\n",
    "df_list = []\n",
    "for ff in csv_files:\n",
    "    df = pd.read_csv(os.path.join(path,ff))\n",
    "    df.columns = map(str.upper, df.columns)\n",
    "    print(ff)\n",
    "    print(df.shape)\n",
    "\n",
    "    \n",
    "    # rename columns if needed\n",
    "    if \"STARTTIME\" in df.columns:        \n",
    "        df = df.rename(index=str, columns={\"STARTTIME\":'START TIME'})\n",
    "    if 'STOPTIME' in df.columns:\n",
    "        df = df.rename(index=str, columns={\"STOPTIME\":\"STOP TIME\"})\n",
    "    if \"TRIPDURATION\" in df.columns:\n",
    "        df = df.rename(index=str, columns={\"TRIPDURATION\":\"TRIP DURATION\"})\n",
    "    if \"USERTYPE\" in df.columns:\n",
    "        df = df.rename(index=str, columns={\"USERTYPE\":\"USER TYPE\"})\n",
    "    if \"BIKEID\" in df.columns:\n",
    "        df = df.rename(index=str, columns={\"BIKEID\":\"BIKE ID\"})\n",
    "\n",
    "    df_list.append(df)    \n",
    "#  'STARTTIME'\n",
    "# 'STOP TIME' 'STOPTIME'\n",
    "# 'TRIP DURATION', 'TRIPDURATION'\n",
    "# 'USER TYPE', 'USERTYPE'\n",
    "# 'BIKE ID' 'BIKEID'    \n",
    "#     if \"\"\n",
    "    \n",
    "# ['Bike ID', 'Birth Year', 'End Station ID', 'End Station Latitude',\n",
    "#        'End Station Longitude', 'End Station Name', 'Gender',\n",
    "#        'Start Station ID', 'Start Station Latitude', 'Start Station Longitude',\n",
    "#        'Start Station Name', 'Start Time', 'Stop Time', 'Trip Duration',\n",
    "#        'User Type', 'bikeid', 'birth year', 'end station id',\n",
    "#        'end station latitude', 'end station longitude', 'end station name',\n",
    "#        'gender', 'start station id', 'start station latitude',\n",
    "#        'start station longitude', 'start station name', 'starttime',\n",
    "#        'stoptime', 'tripduration', 'usertype']    \n"
   ]
  },
  {
   "cell_type": "code",
   "execution_count": 37,
   "metadata": {},
   "outputs": [
    {
     "name": "stdout",
     "output_type": "stream",
     "text": [
      "Index(['TRIP DURATION', 'START TIME', 'STOP TIME', 'START STATION ID',\n",
      "       'START STATION NAME', 'START STATION LATITUDE',\n",
      "       'START STATION LONGITUDE', 'END STATION ID', 'END STATION NAME',\n",
      "       'END STATION LATITUDE', 'END STATION LONGITUDE', 'BIKE ID', 'USER TYPE',\n",
      "       'BIRTH YEAR', 'GENDER'],\n",
      "      dtype='object')\n"
     ]
    },
    {
     "data": {
      "text/plain": [
       "TRIP DURATION                int64\n",
       "START TIME                  object\n",
       "STOP TIME                   object\n",
       "START STATION ID             int64\n",
       "START STATION NAME          object\n",
       "START STATION LATITUDE     float64\n",
       "START STATION LONGITUDE    float64\n",
       "END STATION ID               int64\n",
       "END STATION NAME            object\n",
       "END STATION LATITUDE       float64\n",
       "END STATION LONGITUDE      float64\n",
       "BIKE ID                      int64\n",
       "USER TYPE                   object\n",
       "BIRTH YEAR                   int64\n",
       "GENDER                       int64\n",
       "dtype: object"
      ]
     },
     "execution_count": 37,
     "metadata": {},
     "output_type": "execute_result"
    }
   ],
   "source": [
    "print(df.columns)\n",
    "df.dtypes"
   ]
  },
  {
   "cell_type": "code",
   "execution_count": 38,
   "metadata": {},
   "outputs": [],
   "source": [
    "dffull = pd.DataFrame()\n",
    "dffull = pd.concat(df_list)"
   ]
  },
  {
   "cell_type": "code",
   "execution_count": 39,
   "metadata": {},
   "outputs": [],
   "source": [
    "# "
   ]
  },
  {
   "cell_type": "code",
   "execution_count": 40,
   "metadata": {},
   "outputs": [
    {
     "data": {
      "text/plain": [
       "Index(['TRIP DURATION', 'START TIME', 'STOP TIME', 'START STATION ID',\n",
       "       'START STATION NAME', 'START STATION LATITUDE',\n",
       "       'START STATION LONGITUDE', 'END STATION ID', 'END STATION NAME',\n",
       "       'END STATION LATITUDE', 'END STATION LONGITUDE', 'BIKE ID', 'USER TYPE',\n",
       "       'BIRTH YEAR', 'GENDER'],\n",
       "      dtype='object')"
      ]
     },
     "execution_count": 40,
     "metadata": {},
     "output_type": "execute_result"
    }
   ],
   "source": [
    "dffull.columns\n",
    "\n"
   ]
  },
  {
   "cell_type": "code",
   "execution_count": 41,
   "metadata": {},
   "outputs": [
    {
     "data": {
      "text/plain": [
       "TRIP DURATION              613348\n",
       "START TIME                 613348\n",
       "STOP TIME                  613348\n",
       "START STATION ID           613348\n",
       "START STATION NAME         613348\n",
       "START STATION LATITUDE     613348\n",
       "START STATION LONGITUDE    613348\n",
       "END STATION ID             613348\n",
       "END STATION NAME           613348\n",
       "END STATION LATITUDE       613348\n",
       "END STATION LONGITUDE      613348\n",
       "BIKE ID                    613348\n",
       "USER TYPE                  613231\n",
       "BIRTH YEAR                 596402\n",
       "GENDER                     613348\n",
       "dtype: int64"
      ]
     },
     "execution_count": 41,
     "metadata": {},
     "output_type": "execute_result"
    }
   ],
   "source": [
    "dffull.count()"
   ]
  },
  {
   "cell_type": "code",
   "execution_count": null,
   "metadata": {},
   "outputs": [],
   "source": [
    "csv_files"
   ]
  },
  {
   "cell_type": "code",
   "execution_count": 42,
   "metadata": {},
   "outputs": [],
   "source": [
    "dffull.to_csv(\"JC_\"+str(year)+\".csv\")"
   ]
  },
  {
   "cell_type": "code",
   "execution_count": null,
   "metadata": {},
   "outputs": [],
   "source": []
  }
 ],
 "metadata": {
  "kernelspec": {
   "display_name": "Python 3",
   "language": "python",
   "name": "python3"
  },
  "language_info": {
   "codemirror_mode": {
    "name": "ipython",
    "version": 3
   },
   "file_extension": ".py",
   "mimetype": "text/x-python",
   "name": "python",
   "nbconvert_exporter": "python",
   "pygments_lexer": "ipython3",
   "version": "3.6.5"
  }
 },
 "nbformat": 4,
 "nbformat_minor": 2
}
