{
 "cells": [
  {
   "cell_type": "code",
   "execution_count": 2,
   "metadata": {},
   "outputs": [],
   "source": [
    "import pandas as pd\n",
    "import os\n"
   ]
  },
  {
   "cell_type": "code",
   "execution_count": 28,
   "metadata": {},
   "outputs": [
    {
     "data": {
      "text/plain": [
       "12"
      ]
     },
     "execution_count": 28,
     "metadata": {},
     "output_type": "execute_result"
    }
   ],
   "source": [
    "# Path to the csv files extracted from citybike\n",
    "path = r\"../HOMEWORK_dataset/raw_data\"\n",
    "year = str(2017)\n",
    "\n",
    "# Look for all the csv files in the data folder\n",
    "filenames = os.listdir(path)\n",
    "# Select only the data from 2017\n",
    "csv_files = [ filename for filename in filenames if filename.endswith( \".csv\" ) and filename.startswith(year)]\n",
    "len(csv_files)"
   ]
  },
  {
   "cell_type": "code",
   "execution_count": 29,
   "metadata": {},
   "outputs": [
    {
     "name": "stdout",
     "output_type": "stream",
     "text": [
      "201701-citibike-tripdata.csv\n",
      "(726676, 15)\n",
      "201702-citibike-tripdata.csv\n",
      "(791647, 15)\n",
      "201703-citibike-tripdata.csv\n",
      "(727665, 15)\n",
      "201704-citibike-tripdata.csv\n",
      "(1315404, 15)\n",
      "201705-citibike-tripdata.csv\n",
      "(1523268, 15)\n",
      "201706-citibike-tripdata.csv\n",
      "(1731594, 15)\n",
      "201707-citibike-tripdata.csv\n",
      "(1735599, 15)\n",
      "201708-citibike-tripdata.csv\n",
      "(1816498, 15)\n",
      "201709-citibike-tripdata.csv\n",
      "(1878098, 15)\n",
      "201710-citibike-tripdata.csv\n",
      "(1897592, 15)\n",
      "201711-citibike-tripdata.csv\n",
      "(1330649, 15)\n",
      "201712-citibike-tripdata.csv\n",
      "(889967, 15)\n"
     ]
    }
   ],
   "source": [
    "# Load with pandas and extract nb of rows, nb of columns ad column names\n",
    "df_list = []\n",
    "for ff in csv_files:\n",
    "    df = pd.read_csv(os.path.join(path,ff))\n",
    "    df.columns = map(str.upper, df.columns)\n",
    "    print(ff)\n",
    "    print(df.shape)\n",
    "\n",
    "    # rename columns if needed\n",
    "    if \"STARTTIME\" in df.columns:        \n",
    "        df = df.rename(index=str, columns={\"STARTTIME\":'START TIME'})\n",
    "    if 'STOPTIME' in df.columns:\n",
    "        df = df.rename(index=str, columns={\"STOPTIME\":\"STOP TIME\"})\n",
    "    if \"TRIPDURATION\" in df.columns:\n",
    "        df = df.rename(index=str, columns={\"TRIPDURATION\":\"TRIP DURATION\"})\n",
    "    if \"USERTYPE\" in df.columns:\n",
    "        df = df.rename(index=str, columns={\"USERTYPE\":\"USER TYPE\"})\n",
    "    if \"BIKEID\" in df.columns:\n",
    "        df = df.rename(index=str, columns={\"BIKEID\":\"BIKE ID\"})\n",
    "\n",
    "    df_list.append(df)    \n",
    "\n"
   ]
  },
  {
   "cell_type": "code",
   "execution_count": 36,
   "metadata": {},
   "outputs": [
    {
     "name": "stdout",
     "output_type": "stream",
     "text": [
      "Index(['TRIP DURATION', 'START TIME', 'STOP TIME', 'START STATION ID',\n",
      "       'START STATION NAME', 'START STATION LATITUDE',\n",
      "       'START STATION LONGITUDE', 'END STATION ID', 'END STATION NAME',\n",
      "       'END STATION LATITUDE', 'END STATION LONGITUDE', 'BIKE ID', 'USER TYPE',\n",
      "       'BIRTH YEAR', 'GENDER'],\n",
      "      dtype='object')\n"
     ]
    },
    {
     "data": {
      "text/plain": [
       "TRIP DURATION                int64\n",
       "START TIME                  object\n",
       "STOP TIME                   object\n",
       "START STATION ID             int64\n",
       "START STATION NAME          object\n",
       "START STATION LATITUDE     float64\n",
       "START STATION LONGITUDE    float64\n",
       "END STATION ID               int64\n",
       "END STATION NAME            object\n",
       "END STATION LATITUDE       float64\n",
       "END STATION LONGITUDE      float64\n",
       "BIKE ID                      int64\n",
       "USER TYPE                   object\n",
       "BIRTH YEAR                 float64\n",
       "GENDER                       int64\n",
       "dtype: object"
      ]
     },
     "execution_count": 36,
     "metadata": {},
     "output_type": "execute_result"
    }
   ],
   "source": [
    "print(df.columns)\n",
    "df.dtypes"
   ]
  },
  {
   "cell_type": "code",
   "execution_count": 37,
   "metadata": {},
   "outputs": [],
   "source": [
    "# Concatenate the list of dataframe into a big one\n",
    "dffull = pd.DataFrame()\n",
    "dffull = pd.concat(df_list)\n"
   ]
  },
  {
   "cell_type": "code",
   "execution_count": 41,
   "metadata": {},
   "outputs": [],
   "source": [
    "# create a sample: because my computer is old and I couldn't even use the full dataset because of tableau public limitation\n",
    "# 15millions rows\n",
    "dfsample = dffull.sample(n=1000000)"
   ]
  },
  {
   "cell_type": "code",
   "execution_count": 38,
   "metadata": {},
   "outputs": [
    {
     "data": {
      "text/plain": [
       "TRIP DURATION              16364657\n",
       "START TIME                 16364657\n",
       "STOP TIME                  16364657\n",
       "START STATION ID           16364657\n",
       "START STATION NAME         16364657\n",
       "START STATION LATITUDE     16364657\n",
       "START STATION LONGITUDE    16364657\n",
       "END STATION ID             16364657\n",
       "END STATION NAME           16364657\n",
       "END STATION LATITUDE       16364657\n",
       "END STATION LONGITUDE      16364657\n",
       "BIKE ID                    16364657\n",
       "USER TYPE                  16348748\n",
       "BIRTH YEAR                 14734322\n",
       "GENDER                     16364657\n",
       "dtype: int64"
      ]
     },
     "execution_count": 38,
     "metadata": {},
     "output_type": "execute_result"
    }
   ],
   "source": [
    "dffull.count()"
   ]
  },
  {
   "cell_type": "code",
   "execution_count": 42,
   "metadata": {},
   "outputs": [
    {
     "data": {
      "text/plain": [
       "TRIP DURATION              1000000\n",
       "START TIME                 1000000\n",
       "STOP TIME                  1000000\n",
       "START STATION ID           1000000\n",
       "START STATION NAME         1000000\n",
       "START STATION LATITUDE     1000000\n",
       "START STATION LONGITUDE    1000000\n",
       "END STATION ID             1000000\n",
       "END STATION NAME           1000000\n",
       "END STATION LATITUDE       1000000\n",
       "END STATION LONGITUDE      1000000\n",
       "BIKE ID                    1000000\n",
       "USER TYPE                   999057\n",
       "BIRTH YEAR                  900580\n",
       "GENDER                     1000000\n",
       "dtype: int64"
      ]
     },
     "execution_count": 42,
     "metadata": {},
     "output_type": "execute_result"
    }
   ],
   "source": [
    "dfsample.count()"
   ]
  },
  {
   "cell_type": "code",
   "execution_count": 25,
   "metadata": {},
   "outputs": [],
   "source": [
    "# Save the datasets\n",
    "dffull.to_csv(\"full_\"+str(year)+\".csv\")"
   ]
  },
  {
   "cell_type": "code",
   "execution_count": 43,
   "metadata": {},
   "outputs": [],
   "source": [
    "dfsample.to_csv(\"sample_1M_\"+str(year)+\".csv\")"
   ]
  },
  {
   "cell_type": "code",
   "execution_count": null,
   "metadata": {},
   "outputs": [],
   "source": []
  }
 ],
 "metadata": {
  "kernelspec": {
   "display_name": "Python 3",
   "language": "python",
   "name": "python3"
  },
  "language_info": {
   "codemirror_mode": {
    "name": "ipython",
    "version": 3
   },
   "file_extension": ".py",
   "mimetype": "text/x-python",
   "name": "python",
   "nbconvert_exporter": "python",
   "pygments_lexer": "ipython3",
   "version": "3.6.5"
  }
 },
 "nbformat": 4,
 "nbformat_minor": 2
}
